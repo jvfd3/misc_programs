{
 "cells": [
  {
   "cell_type": "markdown",
   "metadata": {},
   "source": [
    "Teste com Strings"
   ]
  },
  {
   "cell_type": "code",
   "execution_count": 14,
   "metadata": {},
   "outputs": [
    {
     "name": "stdout",
     "output_type": "stream",
     "text": [
      "10\n",
      "ABCDEFGHIJ\n",
      "JAB\n",
      "IJ"
     ]
    }
   ],
   "source": [
    "string=\"ABCDEFGHIJ\"\n",
    "print(len(string))\n",
    "# for i in range (len(string)):\n",
    "  # print(string[i])\n",
    "for i in range (len(string)):\n",
    "  print(string[i], end = '')\n",
    "print()\n",
    "print(string[-1], end = '')\n",
    "print(string[0], end = '')\n",
    "print(string[1], end = '')\n",
    "print()\n",
    "print(string[8], end = '')\n",
    "print(string[9], end = '')\n",
    "# print(string[10], end = '') #Error\n",
    "# print(string[11], end = '') #Error"
   ]
  }
 ],
 "metadata": {
  "interpreter": {
   "hash": "1038baba545cea570b18c98be106d90389ad0a24f09b8ea93468a0957d7b1dbb"
  },
  "kernelspec": {
   "display_name": "Python 3.10.0 64-bit",
   "name": "python3"
  },
  "language_info": {
   "codemirror_mode": {
    "name": "ipython",
    "version": 3
   },
   "file_extension": ".py",
   "mimetype": "text/x-python",
   "name": "python",
   "nbconvert_exporter": "python",
   "pygments_lexer": "ipython3",
   "version": "3.10.0"
  },
  "orig_nbformat": 4
 },
 "nbformat": 4,
 "nbformat_minor": 2
}
